{
  "nbformat": 4,
  "nbformat_minor": 0,
  "metadata": {
    "colab": {
      "name": "ngrok server in colab.ipynb",
      "provenance": [],
      "toc_visible": true,
      "include_colab_link": true
    },
    "kernelspec": {
      "name": "python3",
      "display_name": "Python 3"
    }
  },
  "cells": [
    {
      "cell_type": "markdown",
      "metadata": {
        "id": "view-in-github",
        "colab_type": "text"
      },
      "source": [
        "<a href=\"https://colab.research.google.com/github/ShreshthSaxena/ML/blob/master/ngrok_server_in_colab.ipynb\" target=\"_parent\"><img src=\"https://colab.research.google.com/assets/colab-badge.svg\" alt=\"Open In Colab\"/></a>"
      ]
    },
    {
      "cell_type": "markdown",
      "metadata": {
        "id": "Mz8zY8P1HgNy",
        "colab_type": "text"
      },
      "source": [
        "## ngrok\n"
      ]
    },
    {
      "cell_type": "code",
      "metadata": {
        "id": "0TBSfz5zHmwG",
        "colab_type": "code",
        "colab": {
          "base_uri": "https://localhost:8080/",
          "height": 255
        },
        "outputId": "a656a51c-ac6f-4877-f71e-2a470b78f288"
      },
      "source": [
        "!wget https://bin.equinox.io/c/4VmDzA7iaHb/ngrok-stable-linux-amd64.zip\n",
        "!unzip -o ngrok-stable-linux-amd64.zip\n",
        "!ls -lh ./ngrok"
      ],
      "execution_count": 10,
      "outputs": [
        {
          "output_type": "stream",
          "text": [
            "--2019-12-27 06:50:04--  https://bin.equinox.io/c/4VmDzA7iaHb/ngrok-stable-linux-amd64.zip\n",
            "Resolving bin.equinox.io (bin.equinox.io)... 35.153.11.252, 52.72.59.23, 34.206.126.139, ...\n",
            "Connecting to bin.equinox.io (bin.equinox.io)|35.153.11.252|:443... connected.\n",
            "HTTP request sent, awaiting response... 200 OK\n",
            "Length: 13773305 (13M) [application/octet-stream]\n",
            "Saving to: ‘ngrok-stable-linux-amd64.zip’\n",
            "\n",
            "ngrok-stable-linux- 100%[===================>]  13.13M  16.9MB/s    in 0.8s    \n",
            "\n",
            "2019-12-27 06:50:05 (16.9 MB/s) - ‘ngrok-stable-linux-amd64.zip’ saved [13773305/13773305]\n",
            "\n",
            "Archive:  ngrok-stable-linux-amd64.zip\n",
            "  inflating: ngrok                   \n",
            "-rwx------ 1 root root 26M Oct  8 19:55 ./ngrok\n"
          ],
          "name": "stdout"
        }
      ]
    },
    {
      "cell_type": "code",
      "metadata": {
        "id": "JEezYGctHyaC",
        "colab_type": "code",
        "colab": {}
      },
      "source": [
        "import random\n",
        "port = random.randint(1000, 2**16)\n",
        "\n",
        "!pkill ngrok\n",
        "!kill $(ps x | grep -v grep | grep http.server | awk '{print $1}') 2>/dev/null\n",
        "\n",
        "get_ipython().system_raw(\n",
        "    'cd ./demo && python3 -m http.server {} &'\n",
        "    .format(port)\n",
        ")\n",
        "\n",
        "# ...and forward the port using ngrok.\n",
        "get_ipython().system_raw('./ngrok http {} &'.format(port))"
      ],
      "execution_count": 0,
      "outputs": []
    },
    {
      "cell_type": "code",
      "metadata": {
        "id": "SiPz7ZvHHznA",
        "colab_type": "code",
        "colab": {}
      },
      "source": [
        "import time, urllib\n",
        "import json\n",
        "time.sleep(1)  # Give ngrok time to startup.\n",
        "ngrok_data = json.load(urllib.request.urlopen('http://localhost:4040/api/tunnels'))\n",
        "ngrok_data['tunnels'][0]['public_url']"
      ],
      "execution_count": 0,
      "outputs": []
    },
    {
      "cell_type": "markdown",
      "metadata": {
        "id": "YvMI9WxtHi-o",
        "colab_type": "text"
      },
      "source": [
        "## html\n"
      ]
    },
    {
      "cell_type": "code",
      "metadata": {
        "id": "wCB2N7Oh5WLC",
        "colab_type": "code",
        "colab": {}
      },
      "source": [
        "%%writefile ./demo/index.html\n",
        "\n",
        "<html>\n",
        "  <body>\n",
        "  hear hear\n",
        "  </body>\n",
        "</html>"
      ],
      "execution_count": 0,
      "outputs": []
    },
    {
      "cell_type": "code",
      "metadata": {
        "id": "CuLsuihZ_NKO",
        "colab_type": "code",
        "colab": {}
      },
      "source": [
        ""
      ],
      "execution_count": 0,
      "outputs": []
    }
  ]
}