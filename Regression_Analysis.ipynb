{
  "nbformat": 4,
  "nbformat_minor": 0,
  "metadata": {
    "colab": {
      "name": "Regression Analysis.ipynb",
      "version": "0.3.2",
      "provenance": [],
      "include_colab_link": true
    },
    "kernelspec": {
      "name": "python3",
      "display_name": "Python 3"
    }
  },
  "cells": [
    {
      "cell_type": "markdown",
      "metadata": {
        "id": "view-in-github",
        "colab_type": "text"
      },
      "source": [
        "<a href=\"https://colab.research.google.com/github/ShreshthSaxena/ML/blob/master/Regression_Analysis.ipynb\" target=\"_parent\"><img src=\"https://colab.research.google.com/assets/colab-badge.svg\" alt=\"Open In Colab\"/></a>"
      ]
    },
    {
      "cell_type": "markdown",
      "metadata": {
        "id": "Iw6TShz6P1im",
        "colab_type": "text"
      },
      "source": [
        "To compare different regression models on baseline dataset"
      ]
    },
    {
      "cell_type": "code",
      "metadata": {
        "id": "ZAIpGksIPyXB",
        "colab_type": "code",
        "colab": {}
      },
      "source": [
        "import os\n",
        "from keras.callbacks import ModelCheckpoint\n",
        "from keras.models import Sequential\n",
        "from keras.layers import Dense, Activation, Flatten\n",
        "from sklearn.model_selection import train_test_split\n",
        "from sklearn.ensemble import RandomForestRegressor\n",
        "from sklearn.linear_model import LinearRegression\n",
        "from sklearn.metrics import mean_absolute_error \n",
        "from matplotlib import pyplot as plt\n",
        "import seaborn as sb\n",
        "import matplotlib.pyplot as plt\n",
        "import pandas as pd\n",
        "import numpy as np\n",
        "import warnings \n",
        "warnings.filterwarnings('ignore')\n",
        "warnings.filterwarnings('ignore', category=DeprecationWarning)\n",
        "from xgboost import XGBRegressor\n"
      ],
      "execution_count": 0,
      "outputs": []
    },
    {
      "cell_type": "code",
      "metadata": {
        "id": "z08OKiRoQBRw",
        "colab_type": "code",
        "colab": {
          "base_uri": "https://localhost:8080/",
          "height": 34
        },
        "outputId": "3aa09f59-3c1d-4747-db89-411c23701804"
      },
      "source": [
        "cd sample_data"
      ],
      "execution_count": 2,
      "outputs": [
        {
          "output_type": "stream",
          "text": [
            "/content/sample_data\n"
          ],
          "name": "stdout"
        }
      ]
    },
    {
      "cell_type": "code",
      "metadata": {
        "id": "W-1kaS_8QTip",
        "colab_type": "code",
        "colab": {
          "base_uri": "https://localhost:8080/",
          "height": 68
        },
        "outputId": "4be21dfc-7a8c-4a49-8efb-ac751763ed7d"
      },
      "source": [
        "ls"
      ],
      "execution_count": 3,
      "outputs": [
        {
          "output_type": "stream",
          "text": [
            "\u001b[0m\u001b[01;32manscombe.json\u001b[0m*                mnist_test.csv\n",
            "california_housing_test.csv   mnist_train_small.csv\n",
            "california_housing_train.csv  \u001b[01;32mREADME.md\u001b[0m*\n"
          ],
          "name": "stdout"
        }
      ]
    },
    {
      "cell_type": "code",
      "metadata": {
        "id": "30Lp5ydZQUZ6",
        "colab_type": "code",
        "colab": {}
      },
      "source": [
        "train = pd.read_csv('california_housing_train.csv')\n",
        "test = pd.read_csv('california_housing_test.csv')"
      ],
      "execution_count": 0,
      "outputs": []
    },
    {
      "cell_type": "code",
      "metadata": {
        "id": "Yo8LeD-nVWFc",
        "colab_type": "code",
        "colab": {}
      },
      "source": [
        "train_X = train.iloc[:,:8]\n",
        "train_Y = train.iloc[:,-1]\n",
        "test_X = test.iloc[:,:8]\n",
        "test_Y = test.iloc[:,-1]"
      ],
      "execution_count": 0,
      "outputs": []
    },
    {
      "cell_type": "code",
      "metadata": {
        "id": "fodDzbQuRENO",
        "colab_type": "code",
        "colab": {}
      },
      "source": [
        "# data = train.append(test)\n",
        "# data.reset_index(drop = True, inplace = True)\n",
        "# target = data.median_house_value"
      ],
      "execution_count": 0,
      "outputs": []
    },
    {
      "cell_type": "code",
      "metadata": {
        "id": "mFWOFTPxTYS1",
        "colab_type": "code",
        "colab": {
          "base_uri": "https://localhost:8080/",
          "height": 395
        },
        "outputId": "7c08f1a3-7853-4f6a-9a90-ce19b2b6495e"
      },
      "source": [
        "fig = plt.figure(figsize = (5,5))\n",
        "\n",
        "sb.heatmap(train.corr(), square = True)\n",
        "plt.show()"
      ],
      "execution_count": 26,
      "outputs": [
        {
          "output_type": "display_data",
          "data": {
            "image/png": "[encoded data removed]",
            "text/plain": [
              "<Figure size 360x360 with 2 Axes>"
            ]
          },
          "metadata": {
            "tags": []
          }
        }
      ]
    },
    {
      "cell_type": "markdown",
      "metadata": {
        "id": "dcyqWwsdVHge",
        "colab_type": "text"
      },
      "source": [
        "## Neural Net"
      ]
    },
    {
      "cell_type": "code",
      "metadata": {
        "id": "Z9-NKPV1UWA4",
        "colab_type": "code",
        "colab": {
          "base_uri": "https://localhost:8080/",
          "height": 272
        },
        "outputId": "7eddd03a-38f0-4606-f730-4f916a35f323"
      },
      "source": [
        "NN_model = Sequential()\n",
        "NN_model.add(Dense(8, input_dim=8, kernel_initializer='normal', activation='relu'))\n",
        "NN_model.add(Dense(50, kernel_initializer='normal',activation='relu'))\n",
        "NN_model.add(Dense(10, kernel_initializer='normal',activation='relu'))\n",
        "NN_model.add(Dense(1, kernel_initializer='normal'))\n",
        "# Compile model\n",
        "NN_model.compile(loss='mean_absolute_error', optimizer='adam',  metrics=['mean_absolute_error'])\n",
        "NN_model.summary()"
      ],
      "execution_count": 60,
      "outputs": [
        {
          "output_type": "stream",
          "text": [
            "_________________________________________________________________\n",
            "Layer (type)                 Output Shape              Param #   \n",
            "=================================================================\n",
            "dense_14 (Dense)             (None, 8)                 72        \n",
            "_________________________________________________________________\n",
            "dense_15 (Dense)             (None, 50)                450       \n",
            "_________________________________________________________________\n",
            "dense_16 (Dense)             (None, 10)                510       \n",
            "_________________________________________________________________\n",
            "dense_17 (Dense)             (None, 1)                 11        \n",
            "=================================================================\n",
            "Total params: 1,043\n",
            "Trainable params: 1,043\n",
            "Non-trainable params: 0\n",
            "_________________________________________________________________\n"
          ],
          "name": "stdout"
        }
      ]
    },
    {
      "cell_type": "code",
      "metadata": {
        "id": "sZjTZ1RzVgT7",
        "colab_type": "code",
        "colab": {}
      },
      "source": [
        "# checkpoint_name = 'Weights-{epoch:03d}--{val_loss:.5f}.hdf5' \n",
        "# checkpoint = ModelCheckpoint(checkpoint_name, monitor='val_loss', verbose = 1, save_best_only = True, mode ='auto')\n",
        "# callbacks_list = [checkpoint]"
      ],
      "execution_count": 0,
      "outputs": []
    },
    {
      "cell_type": "code",
      "metadata": {
        "id": "m7ekFOFSVgpq",
        "colab_type": "code",
        "colab": {
          "base_uri": "https://localhost:8080/",
          "height": 1000
        },
        "outputId": "3eac7055-5ed8-439a-d20e-b6d72d596616"
      },
      "source": [
        "NN_model.fit(train_X, train_Y, epochs=100, batch_size=32, validation_split = 0.2)"
      ],
      "execution_count": 66,
      "outputs": [
        {
          "output_type": "stream",
          "text": [
            "Train on 13600 samples, validate on 3400 samples\n",
            "Epoch 1/100\n",
            "13600/13600 [==============================] - 1s 75us/step - loss: 43190.2982 - mean_absolute_error: 43190.2982 - val_loss: 56417.7494 - val_mean_absolute_error: 56417.7494\n",
            "Epoch 2/100\n",
            "13600/13600 [==============================] - 1s 44us/step - loss: 43230.9422 - mean_absolute_error: 43230.9422 - val_loss: 59682.6798 - val_mean_absolute_error: 59682.6798\n",
            "Epoch 3/100\n",
            "13600/13600 [==============================] - 1s 44us/step - loss: 43244.0508 - mean_absolute_error: 43244.0508 - val_loss: 59983.1982 - val_mean_absolute_error: 59983.1982\n",
            "Epoch 4/100\n",
            "13600/13600 [==============================] - 1s 43us/step - loss: 43311.2706 - mean_absolute_error: 43311.2706 - val_loss: 58416.4197 - val_mean_absolute_error: 58416.4197\n",
            "Epoch 5/100\n",
            "13600/13600 [==============================] - 1s 41us/step - loss: 43134.3506 - mean_absolute_error: 43134.3506 - val_loss: 57275.8650 - val_mean_absolute_error: 57275.8650\n",
            "Epoch 6/100\n",
            "13600/13600 [==============================] - 1s 41us/step - loss: 43081.5870 - mean_absolute_error: 43081.5870 - val_loss: 57202.9378 - val_mean_absolute_error: 57202.9378\n",
            "Epoch 7/100\n",
            "13600/13600 [==============================] - 1s 41us/step - loss: 43167.3021 - mean_absolute_error: 43167.3021 - val_loss: 62205.0688 - val_mean_absolute_error: 62205.0688\n",
            "Epoch 8/100\n",
            "13600/13600 [==============================] - 1s 41us/step - loss: 43169.9581 - mean_absolute_error: 43169.9581 - val_loss: 56626.3376 - val_mean_absolute_error: 56626.3376\n",
            "Epoch 9/100\n",
            "13600/13600 [==============================] - 1s 44us/step - loss: 43107.6345 - mean_absolute_error: 43107.6345 - val_loss: 55626.4276 - val_mean_absolute_error: 55626.4276\n",
            "Epoch 10/100\n",
            "13600/13600 [==============================] - 1s 41us/step - loss: 42986.0994 - mean_absolute_error: 42986.0994 - val_loss: 56929.2275 - val_mean_absolute_error: 56929.2275\n",
            "Epoch 11/100\n",
            "13600/13600 [==============================] - 1s 42us/step - loss: 43271.4158 - mean_absolute_error: 43271.4158 - val_loss: 62021.6316 - val_mean_absolute_error: 62021.6316\n",
            "Epoch 12/100\n",
            "13600/13600 [==============================] - 1s 41us/step - loss: 43117.5802 - mean_absolute_error: 43117.5802 - val_loss: 55565.6622 - val_mean_absolute_error: 55565.6622\n",
            "Epoch 13/100\n",
            "13600/13600 [==============================] - 1s 41us/step - loss: 43311.0108 - mean_absolute_error: 43311.0108 - val_loss: 58836.8328 - val_mean_absolute_error: 58836.8328\n",
            "Epoch 14/100\n",
            "13600/13600 [==============================] - 1s 42us/step - loss: 43122.8273 - mean_absolute_error: 43122.8273 - val_loss: 58286.4132 - val_mean_absolute_error: 58286.4132\n",
            "Epoch 15/100\n",
            "13600/13600 [==============================] - 1s 42us/step - loss: 43070.6428 - mean_absolute_error: 43070.6428 - val_loss: 63162.2939 - val_mean_absolute_error: 63162.2939\n",
            "Epoch 16/100\n",
            "13600/13600 [==============================] - 1s 41us/step - loss: 43208.0203 - mean_absolute_error: 43208.0203 - val_loss: 59557.3798 - val_mean_absolute_error: 59557.3798\n",
            "Epoch 17/100\n",
            "13600/13600 [==============================] - 1s 41us/step - loss: 42969.8039 - mean_absolute_error: 42969.8039 - val_loss: 61590.6944 - val_mean_absolute_error: 61590.6944\n",
            "Epoch 18/100\n",
            "13600/13600 [==============================] - 1s 40us/step - loss: 43086.7662 - mean_absolute_error: 43086.7662 - val_loss: 65018.9488 - val_mean_absolute_error: 65018.9488\n",
            "Epoch 19/100\n",
            "13600/13600 [==============================] - 1s 41us/step - loss: 43205.9381 - mean_absolute_error: 43205.9381 - val_loss: 62256.8535 - val_mean_absolute_error: 62256.8535\n",
            "Epoch 20/100\n",
            "13600/13600 [==============================] - 1s 42us/step - loss: 43043.8376 - mean_absolute_error: 43043.8376 - val_loss: 63795.8556 - val_mean_absolute_error: 63795.8556\n",
            "Epoch 21/100\n",
            "13600/13600 [==============================] - 1s 42us/step - loss: 42877.6039 - mean_absolute_error: 42877.6039 - val_loss: 56197.0252 - val_mean_absolute_error: 56197.0252\n",
            "Epoch 22/100\n",
            "13600/13600 [==============================] - 1s 41us/step - loss: 43189.9403 - mean_absolute_error: 43189.9403 - val_loss: 54189.5041 - val_mean_absolute_error: 54189.5041\n",
            "Epoch 23/100\n",
            "13600/13600 [==============================] - 1s 42us/step - loss: 43188.7068 - mean_absolute_error: 43188.7068 - val_loss: 60587.9284 - val_mean_absolute_error: 60587.9284\n",
            "Epoch 24/100\n",
            "13600/13600 [==============================] - 1s 42us/step - loss: 42851.6329 - mean_absolute_error: 42851.6329 - val_loss: 53418.6124 - val_mean_absolute_error: 53418.6124\n",
            "Epoch 25/100\n",
            "13600/13600 [==============================] - 1s 41us/step - loss: 43105.4194 - mean_absolute_error: 43105.4194 - val_loss: 57297.6226 - val_mean_absolute_error: 57297.6226\n",
            "Epoch 26/100\n",
            "13600/13600 [==============================] - 1s 41us/step - loss: 43004.8964 - mean_absolute_error: 43004.8964 - val_loss: 56847.4102 - val_mean_absolute_error: 56847.4102\n",
            "Epoch 27/100\n",
            "13600/13600 [==============================] - 1s 41us/step - loss: 43094.3497 - mean_absolute_error: 43094.3497 - val_loss: 54845.1759 - val_mean_absolute_error: 54845.1759\n",
            "Epoch 28/100\n",
            "13600/13600 [==============================] - 1s 42us/step - loss: 43167.9656 - mean_absolute_error: 43167.9656 - val_loss: 56591.7062 - val_mean_absolute_error: 56591.7062\n",
            "Epoch 29/100\n",
            "13600/13600 [==============================] - 1s 41us/step - loss: 43103.2648 - mean_absolute_error: 43103.2648 - val_loss: 57837.1155 - val_mean_absolute_error: 57837.1155\n",
            "Epoch 30/100\n",
            "13600/13600 [==============================] - 1s 41us/step - loss: 43061.2654 - mean_absolute_error: 43061.2654 - val_loss: 56712.8470 - val_mean_absolute_error: 56712.8470\n",
            "Epoch 31/100\n",
            "13600/13600 [==============================] - 1s 41us/step - loss: 43160.3015 - mean_absolute_error: 43160.3015 - val_loss: 53681.2244 - val_mean_absolute_error: 53681.2244\n",
            "Epoch 32/100\n",
            "13600/13600 [==============================] - 1s 41us/step - loss: 43114.6283 - mean_absolute_error: 43114.6283 - val_loss: 59869.8295 - val_mean_absolute_error: 59869.8295\n",
            "Epoch 33/100\n",
            "13600/13600 [==============================] - 1s 41us/step - loss: 42893.1235 - mean_absolute_error: 42893.1235 - val_loss: 55672.8230 - val_mean_absolute_error: 55672.8230\n",
            "Epoch 34/100\n",
            "13600/13600 [==============================] - 1s 42us/step - loss: 43177.2834 - mean_absolute_error: 43177.2834 - val_loss: 56963.5201 - val_mean_absolute_error: 56963.5201\n",
            "Epoch 35/100\n",
            "13600/13600 [==============================] - 1s 41us/step - loss: 43238.5799 - mean_absolute_error: 43238.5799 - val_loss: 63341.5483 - val_mean_absolute_error: 63341.5483\n",
            "Epoch 36/100\n",
            "13600/13600 [==============================] - 1s 42us/step - loss: 43036.6080 - mean_absolute_error: 43036.6080 - val_loss: 58735.8411 - val_mean_absolute_error: 58735.8411\n",
            "Epoch 37/100\n",
            "13600/13600 [==============================] - 1s 41us/step - loss: 42960.3566 - mean_absolute_error: 42960.3566 - val_loss: 56850.6634 - val_mean_absolute_error: 56850.6634\n",
            "Epoch 38/100\n",
            "13600/13600 [==============================] - 1s 42us/step - loss: 42918.5903 - mean_absolute_error: 42918.5903 - val_loss: 58191.2413 - val_mean_absolute_error: 58191.2413\n",
            "Epoch 39/100\n",
            "13600/13600 [==============================] - 1s 41us/step - loss: 42908.0327 - mean_absolute_error: 42908.0327 - val_loss: 64218.9606 - val_mean_absolute_error: 64218.9606\n",
            "Epoch 40/100\n",
            "13600/13600 [==============================] - 1s 41us/step - loss: 43019.0032 - mean_absolute_error: 43019.0032 - val_loss: 54567.4921 - val_mean_absolute_error: 54567.4921\n",
            "Epoch 41/100\n",
            "13600/13600 [==============================] - 1s 41us/step - loss: 43173.1810 - mean_absolute_error: 43173.1810 - val_loss: 57739.8474 - val_mean_absolute_error: 57739.8474\n",
            "Epoch 42/100\n",
            "13600/13600 [==============================] - 1s 41us/step - loss: 43155.9079 - mean_absolute_error: 43155.9079 - val_loss: 60713.8976 - val_mean_absolute_error: 60713.8976\n",
            "Epoch 43/100\n",
            "13600/13600 [==============================] - 1s 41us/step - loss: 42972.1325 - mean_absolute_error: 42972.1325 - val_loss: 55734.4701 - val_mean_absolute_error: 55734.4701\n",
            "Epoch 44/100\n",
            "13600/13600 [==============================] - 1s 42us/step - loss: 43431.4654 - mean_absolute_error: 43431.4654 - val_loss: 58457.2055 - val_mean_absolute_error: 58457.2055\n",
            "Epoch 45/100\n",
            "13600/13600 [==============================] - 1s 41us/step - loss: 43099.0738 - mean_absolute_error: 43099.0738 - val_loss: 59844.9924 - val_mean_absolute_error: 59844.9924\n",
            "Epoch 46/100\n",
            "13600/13600 [==============================] - 1s 42us/step - loss: 42896.2106 - mean_absolute_error: 42896.2106 - val_loss: 55060.5069 - val_mean_absolute_error: 55060.5069\n",
            "Epoch 47/100\n",
            "13600/13600 [==============================] - 1s 41us/step - loss: 43131.8246 - mean_absolute_error: 43131.8246 - val_loss: 56341.8575 - val_mean_absolute_error: 56341.8575\n",
            "Epoch 48/100\n",
            "13600/13600 [==============================] - 1s 41us/step - loss: 42995.6741 - mean_absolute_error: 42995.6741 - val_loss: 55645.8915 - val_mean_absolute_error: 55645.8915\n",
            "Epoch 49/100\n",
            "13600/13600 [==============================] - 1s 43us/step - loss: 42964.3157 - mean_absolute_error: 42964.3157 - val_loss: 58543.0442 - val_mean_absolute_error: 58543.0442\n",
            "Epoch 50/100\n",
            "13600/13600 [==============================] - 1s 42us/step - loss: 43044.6973 - mean_absolute_error: 43044.6973 - val_loss: 57556.2669 - val_mean_absolute_error: 57556.2669\n",
            "Epoch 51/100\n",
            "13600/13600 [==============================] - 1s 42us/step - loss: 42903.3908 - mean_absolute_error: 42903.3908 - val_loss: 52834.4832 - val_mean_absolute_error: 52834.4832\n",
            "Epoch 52/100\n",
            "13600/13600 [==============================] - 1s 42us/step - loss: 43069.7345 - mean_absolute_error: 43069.7345 - val_loss: 60470.6318 - val_mean_absolute_error: 60470.6318\n",
            "Epoch 53/100\n",
            "13600/13600 [==============================] - 1s 41us/step - loss: 43135.5231 - mean_absolute_error: 43135.5231 - val_loss: 57824.3977 - val_mean_absolute_error: 57824.3977\n",
            "Epoch 54/100\n",
            "13600/13600 [==============================] - 1s 41us/step - loss: 43147.4327 - mean_absolute_error: 43147.4327 - val_loss: 55268.9732 - val_mean_absolute_error: 55268.9732\n",
            "Epoch 55/100\n",
            "13600/13600 [==============================] - 1s 41us/step - loss: 42959.3108 - mean_absolute_error: 42959.3108 - val_loss: 55489.0091 - val_mean_absolute_error: 55489.0091\n",
            "Epoch 56/100\n",
            "13600/13600 [==============================] - 1s 42us/step - loss: 42956.6853 - mean_absolute_error: 42956.6853 - val_loss: 57755.8503 - val_mean_absolute_error: 57755.8503\n",
            "Epoch 57/100\n",
            "13600/13600 [==============================] - 1s 41us/step - loss: 43108.1633 - mean_absolute_error: 43108.1633 - val_loss: 58905.2484 - val_mean_absolute_error: 58905.2484\n",
            "Epoch 58/100\n",
            "13600/13600 [==============================] - 1s 41us/step - loss: 43235.0416 - mean_absolute_error: 43235.0416 - val_loss: 62240.9179 - val_mean_absolute_error: 62240.9179\n",
            "Epoch 59/100\n",
            "13600/13600 [==============================] - 1s 41us/step - loss: 43165.8047 - mean_absolute_error: 43165.8047 - val_loss: 53533.6666 - val_mean_absolute_error: 53533.6666\n",
            "Epoch 60/100\n",
            "13600/13600 [==============================] - 1s 42us/step - loss: 42999.1456 - mean_absolute_error: 42999.1456 - val_loss: 60264.0908 - val_mean_absolute_error: 60264.0908\n",
            "Epoch 61/100\n",
            "13600/13600 [==============================] - 1s 41us/step - loss: 43090.8653 - mean_absolute_error: 43090.8653 - val_loss: 60360.1809 - val_mean_absolute_error: 60360.1809\n",
            "Epoch 62/100\n",
            "13600/13600 [==============================] - 1s 41us/step - loss: 42994.6998 - mean_absolute_error: 42994.6998 - val_loss: 59483.0860 - val_mean_absolute_error: 59483.0860\n",
            "Epoch 63/100\n",
            "13600/13600 [==============================] - 1s 43us/step - loss: 43269.1211 - mean_absolute_error: 43269.1211 - val_loss: 56435.5150 - val_mean_absolute_error: 56435.5150\n",
            "Epoch 64/100\n",
            "13600/13600 [==============================] - 1s 42us/step - loss: 43032.3380 - mean_absolute_error: 43032.3380 - val_loss: 53799.0828 - val_mean_absolute_error: 53799.0828\n",
            "Epoch 65/100\n",
            "13600/13600 [==============================] - 1s 43us/step - loss: 42847.8110 - mean_absolute_error: 42847.8110 - val_loss: 60190.3866 - val_mean_absolute_error: 60190.3866\n",
            "Epoch 66/100\n",
            "13600/13600 [==============================] - 1s 43us/step - loss: 42984.9604 - mean_absolute_error: 42984.9604 - val_loss: 58712.9172 - val_mean_absolute_error: 58712.9172\n",
            "Epoch 67/100\n",
            "13600/13600 [==============================] - 1s 45us/step - loss: 43115.2478 - mean_absolute_error: 43115.2478 - val_loss: 57674.9267 - val_mean_absolute_error: 57674.9267\n",
            "Epoch 68/100\n",
            "13600/13600 [==============================] - 1s 41us/step - loss: 42890.4642 - mean_absolute_error: 42890.4642 - val_loss: 61365.5109 - val_mean_absolute_error: 61365.5109\n",
            "Epoch 69/100\n",
            "13600/13600 [==============================] - 1s 41us/step - loss: 42905.3911 - mean_absolute_error: 42905.3911 - val_loss: 58619.4811 - val_mean_absolute_error: 58619.4811\n",
            "Epoch 70/100\n",
            "13600/13600 [==============================] - 1s 40us/step - loss: 43207.8903 - mean_absolute_error: 43207.8903 - val_loss: 56429.3384 - val_mean_absolute_error: 56429.3384\n",
            "Epoch 71/100\n",
            "13600/13600 [==============================] - 1s 40us/step - loss: 43095.4560 - mean_absolute_error: 43095.4560 - val_loss: 61981.8164 - val_mean_absolute_error: 61981.8164\n",
            "Epoch 72/100\n",
            "13600/13600 [==============================] - 1s 41us/step - loss: 42957.5053 - mean_absolute_error: 42957.5053 - val_loss: 60821.5912 - val_mean_absolute_error: 60821.5912\n",
            "Epoch 73/100\n",
            "13600/13600 [==============================] - 1s 41us/step - loss: 42992.0299 - mean_absolute_error: 42992.0299 - val_loss: 54723.5754 - val_mean_absolute_error: 54723.5754\n",
            "Epoch 74/100\n",
            "13600/13600 [==============================] - 1s 42us/step - loss: 43334.0000 - mean_absolute_error: 43334.0000 - val_loss: 58127.6822 - val_mean_absolute_error: 58127.6822\n",
            "Epoch 75/100\n",
            "13600/13600 [==============================] - 1s 40us/step - loss: 42842.1592 - mean_absolute_error: 42842.1592 - val_loss: 56023.2344 - val_mean_absolute_error: 56023.2344\n",
            "Epoch 76/100\n",
            "13600/13600 [==============================] - 1s 41us/step - loss: 42890.3327 - mean_absolute_error: 42890.3327 - val_loss: 57844.5421 - val_mean_absolute_error: 57844.5421\n",
            "Epoch 77/100\n",
            "13600/13600 [==============================] - 1s 42us/step - loss: 43009.1624 - mean_absolute_error: 43009.1624 - val_loss: 58077.6097 - val_mean_absolute_error: 58077.6097\n",
            "Epoch 78/100\n",
            "13600/13600 [==============================] - 1s 41us/step - loss: 42942.2453 - mean_absolute_error: 42942.2453 - val_loss: 59022.9089 - val_mean_absolute_error: 59022.9089\n",
            "Epoch 79/100\n",
            "13600/13600 [==============================] - 1s 41us/step - loss: 42939.1431 - mean_absolute_error: 42939.1431 - val_loss: 56409.3050 - val_mean_absolute_error: 56409.3050\n",
            "Epoch 80/100\n",
            "13600/13600 [==============================] - 1s 40us/step - loss: 43085.8556 - mean_absolute_error: 43085.8556 - val_loss: 55717.6340 - val_mean_absolute_error: 55717.6340\n",
            "Epoch 81/100\n",
            "13600/13600 [==============================] - 1s 40us/step - loss: 43149.7386 - mean_absolute_error: 43149.7386 - val_loss: 55932.5678 - val_mean_absolute_error: 55932.5678\n",
            "Epoch 82/100\n",
            "13600/13600 [==============================] - 1s 40us/step - loss: 43273.2732 - mean_absolute_error: 43273.2732 - val_loss: 61888.2676 - val_mean_absolute_error: 61888.2676\n",
            "Epoch 83/100\n",
            "13600/13600 [==============================] - 1s 41us/step - loss: 43125.9826 - mean_absolute_error: 43125.9826 - val_loss: 56968.0504 - val_mean_absolute_error: 56968.0504\n",
            "Epoch 84/100\n",
            "13600/13600 [==============================] - 1s 40us/step - loss: 43006.9741 - mean_absolute_error: 43006.9741 - val_loss: 58788.6801 - val_mean_absolute_error: 58788.6801\n",
            "Epoch 85/100\n",
            "13600/13600 [==============================] - 1s 41us/step - loss: 43093.6198 - mean_absolute_error: 43093.6198 - val_loss: 57211.6148 - val_mean_absolute_error: 57211.6148\n",
            "Epoch 86/100\n",
            "13600/13600 [==============================] - 1s 42us/step - loss: 42845.2560 - mean_absolute_error: 42845.2560 - val_loss: 60895.1627 - val_mean_absolute_error: 60895.1627\n",
            "Epoch 87/100\n",
            "13600/13600 [==============================] - 1s 41us/step - loss: 43008.6048 - mean_absolute_error: 43008.6048 - val_loss: 55258.3101 - val_mean_absolute_error: 55258.3101\n",
            "Epoch 88/100\n",
            "13600/13600 [==============================] - 1s 41us/step - loss: 42967.9793 - mean_absolute_error: 42967.9793 - val_loss: 60570.6424 - val_mean_absolute_error: 60570.6424\n",
            "Epoch 89/100\n",
            "13600/13600 [==============================] - 1s 41us/step - loss: 42906.8532 - mean_absolute_error: 42906.8532 - val_loss: 57659.9335 - val_mean_absolute_error: 57659.9335\n",
            "Epoch 90/100\n",
            "13600/13600 [==============================] - 1s 41us/step - loss: 43154.2190 - mean_absolute_error: 43154.2190 - val_loss: 61403.9137 - val_mean_absolute_error: 61403.9137\n",
            "Epoch 91/100\n",
            "13600/13600 [==============================] - 1s 41us/step - loss: 42869.3524 - mean_absolute_error: 42869.3524 - val_loss: 59056.4009 - val_mean_absolute_error: 59056.4009\n",
            "Epoch 92/100\n",
            "13600/13600 [==============================] - 1s 41us/step - loss: 43199.6662 - mean_absolute_error: 43199.6662 - val_loss: 60336.1552 - val_mean_absolute_error: 60336.1552\n",
            "Epoch 93/100\n",
            "13600/13600 [==============================] - 1s 41us/step - loss: 43064.5958 - mean_absolute_error: 43064.5958 - val_loss: 57417.5184 - val_mean_absolute_error: 57417.5184\n",
            "Epoch 94/100\n",
            "13600/13600 [==============================] - 1s 42us/step - loss: 42900.0555 - mean_absolute_error: 42900.0555 - val_loss: 55028.9823 - val_mean_absolute_error: 55028.9823\n",
            "Epoch 95/100\n",
            "13600/13600 [==============================] - 1s 41us/step - loss: 42986.7437 - mean_absolute_error: 42986.7437 - val_loss: 57012.4697 - val_mean_absolute_error: 57012.4697\n",
            "Epoch 96/100\n",
            "13600/13600 [==============================] - 1s 41us/step - loss: 42940.8103 - mean_absolute_error: 42940.8103 - val_loss: 57783.3847 - val_mean_absolute_error: 57783.3847\n",
            "Epoch 97/100\n",
            "13600/13600 [==============================] - 1s 41us/step - loss: 43031.7528 - mean_absolute_error: 43031.7528 - val_loss: 56915.8148 - val_mean_absolute_error: 56915.8148\n",
            "Epoch 98/100\n",
            "13600/13600 [==============================] - 1s 41us/step - loss: 42884.2158 - mean_absolute_error: 42884.2158 - val_loss: 56862.8057 - val_mean_absolute_error: 56862.8057\n",
            "Epoch 99/100\n",
            "13600/13600 [==============================] - 1s 41us/step - loss: 43102.9954 - mean_absolute_error: 43102.9954 - val_loss: 56350.4524 - val_mean_absolute_error: 56350.4524\n",
            "Epoch 100/100\n",
            "13600/13600 [==============================] - 1s 41us/step - loss: 42845.3572 - mean_absolute_error: 42845.3572 - val_loss: 58645.8771 - val_mean_absolute_error: 58645.8771\n"
          ],
          "name": "stdout"
        },
        {
          "output_type": "execute_result",
          "data": {
            "text/plain": [
              "<keras.callbacks.History at 0x7f864fdd70f0>"
            ]
          },
          "metadata": {
            "tags": []
          },
          "execution_count": 66
        }
      ]
    },
    {
      "cell_type": "code",
      "metadata": {
        "id": "BkaLgk5vXLRU",
        "colab_type": "code",
        "colab": {}
      },
      "source": [
        "NN_model.compile(loss='mean_absolute_error', optimizer='adam', metrics=['mean_absolute_error'])"
      ],
      "execution_count": 0,
      "outputs": []
    },
    {
      "cell_type": "code",
      "metadata": {
        "id": "7UMW4AQKYvXN",
        "colab_type": "code",
        "colab": {}
      },
      "source": [
        "predictions = NN_model.predict(test_X)"
      ],
      "execution_count": 0,
      "outputs": []
    },
    {
      "cell_type": "code",
      "metadata": {
        "id": "Nl9h_1UfZRf_",
        "colab_type": "code",
        "colab": {
          "base_uri": "https://localhost:8080/",
          "height": 34
        },
        "outputId": "956b8f6c-39d8-4783-9260-f8ac221b9fee"
      },
      "source": [
        "mean_absolute_error(test_Y , predictions)"
      ],
      "execution_count": 69,
      "outputs": [
        {
          "output_type": "execute_result",
          "data": {
            "text/plain": [
              "47199.78747526042"
            ]
          },
          "metadata": {
            "tags": []
          },
          "execution_count": 69
        }
      ]
    },
    {
      "cell_type": "markdown",
      "metadata": {
        "id": "Hh2oJ8jAggJf",
        "colab_type": "text"
      },
      "source": [
        "##Linear Regressor"
      ]
    },
    {
      "cell_type": "code",
      "metadata": {
        "id": "9Jc4YA0CgjKs",
        "colab_type": "code",
        "colab": {
          "base_uri": "https://localhost:8080/",
          "height": 34
        },
        "outputId": "81e89361-357e-4cfd-f493-0ffc4c98fbfe"
      },
      "source": [
        "regressor = LinearRegression()  \n",
        "regressor.fit(train_X,train_Y) \n",
        "\n",
        "y_pred = regressor.predict(train_X)\n",
        "mean_absolute_error(train_Y , y_pred)"
      ],
      "execution_count": 77,
      "outputs": [
        {
          "output_type": "execute_result",
          "data": {
            "text/plain": [
              "50795.85711786407"
            ]
          },
          "metadata": {
            "tags": []
          },
          "execution_count": 77
        }
      ]
    },
    {
      "cell_type": "code",
      "metadata": {
        "id": "HZQF1nk7gjIC",
        "colab_type": "code",
        "colab": {
          "base_uri": "https://localhost:8080/",
          "height": 34
        },
        "outputId": "a3818977-b06a-4416-d99b-9fa02323894a"
      },
      "source": [
        "predicted_prices = model.predict(test_X)\n",
        "mean_absolute_error(test_Y , predicted_prices)"
      ],
      "execution_count": 78,
      "outputs": [
        {
          "output_type": "execute_result",
          "data": {
            "text/plain": [
              "34311.24143333333"
            ]
          },
          "metadata": {
            "tags": []
          },
          "execution_count": 78
        }
      ]
    },
    {
      "cell_type": "markdown",
      "metadata": {
        "id": "4DnZqipGY99v",
        "colab_type": "text"
      },
      "source": [
        "## Random Forest Regressor"
      ]
    },
    {
      "cell_type": "code",
      "metadata": {
        "id": "I4pQKHDmY-Us",
        "colab_type": "code",
        "colab": {
          "base_uri": "https://localhost:8080/",
          "height": 34
        },
        "outputId": "991086ef-3afc-4b8e-97d9-553559c012c1"
      },
      "source": [
        "model = RandomForestRegressor()\n",
        "model.fit(train_X,train_Y)\n",
        "\n",
        "predicted_prices = model.predict(train_X)\n",
        "MAE = mean_absolute_error(train_Y , predicted_prices)\n",
        "print('Random forest training MAE = ', MAE)"
      ],
      "execution_count": 79,
      "outputs": [
        {
          "output_type": "stream",
          "text": [
            "Random forest training MAE =  13395.617294117646\n"
          ],
          "name": "stdout"
        }
      ]
    },
    {
      "cell_type": "code",
      "metadata": {
        "id": "bTvtl6BWZnk9",
        "colab_type": "code",
        "colab": {
          "base_uri": "https://localhost:8080/",
          "height": 34
        },
        "outputId": "30c6a6e5-6209-404c-fe16-0c2091e4771b"
      },
      "source": [
        "predicted_prices = model.predict(test_X)\n",
        "mean_absolute_error(test_Y , predicted_prices)"
      ],
      "execution_count": 80,
      "outputs": [
        {
          "output_type": "execute_result",
          "data": {
            "text/plain": [
              "34233.28833333333"
            ]
          },
          "metadata": {
            "tags": []
          },
          "execution_count": 80
        }
      ]
    },
    {
      "cell_type": "markdown",
      "metadata": {
        "id": "cVgU5nc3Z438",
        "colab_type": "text"
      },
      "source": [
        "## XGBoost"
      ]
    },
    {
      "cell_type": "code",
      "metadata": {
        "id": "Opr-d7tmZ8zx",
        "colab_type": "code",
        "colab": {
          "base_uri": "https://localhost:8080/",
          "height": 71
        },
        "outputId": "86aa3624-10fd-4757-cf36-7a0a88c51bd8"
      },
      "source": [
        "XGBModel = XGBRegressor()\n",
        "XGBModel.fit(train_X,train_Y , verbose=False)\n",
        "\n",
        "GBpredictions = XGBModel.predict(train_X)\n",
        "MAE = mean_absolute_error(train_Y , GBpredictions)\n",
        "print('XGBoost training MAE = ',MAE)"
      ],
      "execution_count": 81,
      "outputs": [
        {
          "output_type": "stream",
          "text": [
            "[16:02:38] WARNING: /workspace/src/objective/regression_obj.cu:152: reg:linear is now deprecated in favor of reg:squarederror.\n",
            "XGBoost training MAE =  36693.831200137865\n"
          ],
          "name": "stdout"
        }
      ]
    },
    {
      "cell_type": "code",
      "metadata": {
        "id": "rh0ZrZC3aDID",
        "colab_type": "code",
        "colab": {
          "base_uri": "https://localhost:8080/",
          "height": 34
        },
        "outputId": "7a3c6ab7-f9c6-4347-9012-92ccd624442d"
      },
      "source": [
        "GBpredictions = XGBModel.predict(test_X)\n",
        "mean_absolute_error(test_Y , GBpredictions)"
      ],
      "execution_count": 82,
      "outputs": [
        {
          "output_type": "execute_result",
          "data": {
            "text/plain": [
              "38396.91239973958"
            ]
          },
          "metadata": {
            "tags": []
          },
          "execution_count": 82
        }
      ]
    }
  ]
}