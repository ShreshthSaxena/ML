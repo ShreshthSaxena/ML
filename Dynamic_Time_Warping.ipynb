{
  "nbformat": 4,
  "nbformat_minor": 0,
  "metadata": {
    "colab": {
      "name": "Dynamic Time Warping.ipynb",
      "provenance": [],
      "include_colab_link": true
    },
    "kernelspec": {
      "name": "python3",
      "display_name": "Python 3"
    }
  },
  "cells": [
    {
      "cell_type": "markdown",
      "metadata": {
        "id": "view-in-github",
        "colab_type": "text"
      },
      "source": [
        "<a href=\"https://colab.research.google.com/github/ShreshthSaxena/ML/blob/master/Dynamic_Time_Warping.ipynb\" target=\"_parent\"><img src=\"https://colab.research.google.com/assets/colab-badge.svg\" alt=\"Open In Colab\"/></a>"
      ]
    },
    {
      "cell_type": "code",
      "metadata": {
        "id": "PYgTuOzB4jLu",
        "outputId": "3c83a47f-d3ce-4a95-96fe-720d96c20be0",
        "colab": {
          "base_uri": "https://localhost:8080/",
          "height": 265
        }
      },
      "source": [
        "import matplotlib.pyplot as plt\n",
        "import numpy as np\n",
        "\n",
        "T = np.arange(9)\n",
        "power = np.array([10,8,6,4,2,4,6,8,10])\n",
        "\n",
        "plt.plot(T,power)\n",
        "plt.show()"
      ],
      "execution_count": null,
      "outputs": [
        {
          "output_type": "display_data",
          "data": {
            "image/png": "[encoded data removed]",
            "text/plain": [
              "<Figure size 432x288 with 1 Axes>"
            ]
          },
          "metadata": {
            "tags": [],
            "needs_background": "light"
          }
        }
      ]
    },
    {
      "cell_type": "code",
      "metadata": {
        "id": "lW4XoIN76ltU",
        "outputId": "85da1de5-9e8f-4fe3-a8e0-7bc959e879dd",
        "colab": {
          "base_uri": "https://localhost:8080/",
          "height": 265
        }
      },
      "source": [
        "T2 = np.array([350,311,283,252,231])\n",
        "power2 = np.array([179,152,190,225,251])\n",
        "\n",
        "plt.plot(T2,power2)\n",
        "plt.show()"
      ],
      "execution_count": null,
      "outputs": [
        {
          "output_type": "display_data",
          "data": {
            "image/png": "[encoded data removed]",
            "text/plain": [
              "<Figure size 432x288 with 1 Axes>"
            ]
          },
          "metadata": {
            "tags": [],
            "needs_background": "light"
          }
        }
      ]
    },
    {
      "cell_type": "code",
      "metadata": {
        "id": "ZA1M7kyi5Oed"
      },
      "source": [
        " def dtw(s, t):\n",
        "    n, m = len(s), len(t)\n",
        "    dtw_matrix = np.zeros((n+1, m+1))\n",
        "    for i in range(n+1):\n",
        "        for j in range(m+1):\n",
        "            dtw_matrix[i, j] = np.inf\n",
        "    dtw_matrix[0, 0] = 0\n",
        "    \n",
        "    for i in range(1, n+1):\n",
        "        for j in range(1, m+1):\n",
        "            cost = abs(s[i-1] - t[j-1])\n",
        "            # take last min from a square box\n",
        "            last_min = np.min([dtw_matrix[i-1, j], dtw_matrix[i, j-1], dtw_matrix[i-1, j-1]])\n",
        "            dtw_matrix[i, j] = cost + last_min\n",
        "    return dtw_matrix "
      ],
      "execution_count": null,
      "outputs": []
    },
    {
      "cell_type": "code",
      "metadata": {
        "id": "NGFa54s1FIau",
        "outputId": "808a651f-0051-4ac2-fdd7-f41c17e29eb4",
        "colab": {
          "base_uri": "https://localhost:8080/",
          "height": 187
        }
      },
      "source": [
        "T3 = [int(10*(i-T2.min())/(T2.max() - T2.min())) for i in T2]\n",
        "dtw(T,T3)"
      ],
      "execution_count": null,
      "outputs": [
        {
          "output_type": "execute_result",
          "data": {
            "text/plain": [
              "array([[ 0., inf, inf, inf, inf, inf],\n",
              "       [inf, 10., 16., 20., 21., 21.],\n",
              "       [inf, 19., 15., 18., 18., 19.],\n",
              "       [inf, 27., 19., 17., 18., 20.],\n",
              "       [inf, 34., 22., 18., 19., 21.],\n",
              "       [inf, 40., 24., 18., 21., 23.],\n",
              "       [inf, 45., 25., 19., 22., 26.],\n",
              "       [inf, 49., 25., 21., 24., 28.],\n",
              "       [inf, 52., 26., 24., 27., 31.],\n",
              "       [inf, 54., 28., 28., 31., 35.]])"
            ]
          },
          "metadata": {
            "tags": []
          },
          "execution_count": 26
        }
      ]
    },
    {
      "cell_type": "code",
      "metadata": {
        "id": "vEZk88p8H8h3"
      },
      "source": [
        ""
      ],
      "execution_count": null,
      "outputs": []
    }
  ]
}