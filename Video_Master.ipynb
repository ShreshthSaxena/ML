{
  "nbformat": 4,
  "nbformat_minor": 0,
  "metadata": {
    "colab": {
      "name": "Video Master.ipynb",
      "provenance": [],
      "authorship_tag": "ABX9TyOmncLlrP9DYg2VU+BMM/l8",
      "include_colab_link": true
    },
    "kernelspec": {
      "name": "python3",
      "display_name": "Python 3"
    }
  },
  "cells": [
    {
      "cell_type": "markdown",
      "metadata": {
        "id": "view-in-github",
        "colab_type": "text"
      },
      "source": [
        "<a href=\"https://colab.research.google.com/github/ShreshthSaxena/ML/blob/master/Video_Master.ipynb\" target=\"_parent\"><img src=\"https://colab.research.google.com/assets/colab-badge.svg\" alt=\"Open In Colab\"/></a>"
      ]
    },
    {
      "cell_type": "code",
      "metadata": {
        "id": "qAQkR9BT-C32",
        "colab_type": "code",
        "colab": {}
      },
      "source": [
        "from google.colab import drive\n",
        "drive.mount('/content/drive')"
      ],
      "execution_count": 0,
      "outputs": []
    },
    {
      "cell_type": "code",
      "metadata": {
        "id": "VDS7QNGk9Kf5",
        "colab_type": "code",
        "colab": {}
      },
      "source": [
        "!pip install ffmpeg-python\n",
        "import cv2\n",
        "import os\n",
        "import math\n",
        "import time\n",
        "import matplotlib.pyplot as plt  \n",
        "import cv2\n",
        "import glob\n",
        "from google.colab.patches import cv2_imshow"
      ],
      "execution_count": 0,
      "outputs": []
    },
    {
      "cell_type": "code",
      "metadata": {
        "id": "kJjcqriN9Nx5",
        "colab_type": "code",
        "colab": {}
      },
      "source": [
        "import ffmpeg    \n",
        "## Check the stream on which rotate tag if an error occurs\n",
        "\n",
        "def check_rotation(path_video_file):\n",
        "    # this returns meta-data of the video file in form of a dictionary\n",
        "    meta_dict = ffmpeg.probe(path_video_file)\n",
        "\n",
        "    # from the dictionary, meta_dict['streams'][0]['tags']['rotate'] is the key\n",
        "    # we are looking for\n",
        "    rotateCode = None\n",
        "    if int(meta_dict['streams'][1]['tags']['rotate']) == 90:\n",
        "        rotateCode = cv2.ROTATE_90_CLOCKWISE\n",
        "    elif int(meta_dict['streams'][1]['tags']['rotate']) == 180:\n",
        "        rotateCode = cv2.ROTATE_180\n",
        "    elif int(meta_dict['streams'][1]['tags']['rotate']) == 270:\n",
        "        rotateCode = cv2.ROTATE_90_COUNTERCLOCKWISE\n",
        "\n",
        "    return rotateCode\n",
        "\n",
        "def correct_rotation(frame, rotateCode):  \n",
        "    return cv2.rotate(frame, rotateCode) "
      ],
      "execution_count": 0,
      "outputs": []
    },
    {
      "cell_type": "markdown",
      "metadata": {
        "id": "iAIiF9FA-U43",
        "colab_type": "text"
      },
      "source": [
        "##Video to Frames"
      ]
    },
    {
      "cell_type": "code",
      "metadata": {
        "id": "kttBVWSY9WNi",
        "colab_type": "code",
        "colab": {}
      },
      "source": [
        "def convert(videoFile):\n",
        "  count = 0\n",
        "  cap = cv2.VideoCapture(videoFile)\n",
        "  rotateCode = check_rotation(videoFile)\n",
        "  frameRate = cap.get(5) \n",
        "  while(cap.isOpened()):\n",
        "      frameId = cap.get(1) \n",
        "      ret, frame = cap.read()\n",
        "      if (ret != True):\n",
        "          break\n",
        "      if rotateCode is not None:\n",
        "          frame = correct_rotation(frame, rotateCode)           ## to drop frames: if (frameId % math.floor(1) == 0):\n",
        "          filename = str(count)+\".png\";count+=1\n",
        "          cv2.imwrite('/content/drive/My Drive/audi/frames/'+filename, frame)\n",
        "  cap.release()"
      ],
      "execution_count": 0,
      "outputs": []
    },
    {
      "cell_type": "code",
      "metadata": {
        "id": "p3p-HvmL9sQS",
        "colab_type": "code",
        "colab": {}
      },
      "source": [
        "convert('/content/drive/My Drive/audi/onbeat.mov')\n",
        "len(os.listdir('/content/drive/My Drive/audi/frames'))"
      ],
      "execution_count": 0,
      "outputs": []
    },
    {
      "cell_type": "markdown",
      "metadata": {
        "id": "jnKfAqkJ-XGf",
        "colab_type": "text"
      },
      "source": [
        "##Frames to Video"
      ]
    },
    {
      "cell_type": "code",
      "metadata": {
        "id": "DLHElJXb9uLQ",
        "colab_type": "code",
        "colab": {}
      },
      "source": [
        "## Change sorting as per frame names. I named them [frame no.].png here\n",
        "\n",
        "img_array = []\n",
        "for filename in sorted(os.listdir('/content/drive/My Drive/audi/frames'), key = lambda x:int(x.split('.')[0])):\n",
        "    img = cv2.imread('/content/drive/My Drive/audi/frames/'+filename)\n",
        "    height, width, layers = img.shape\n",
        "    size = (width,height)\n",
        "    img_array.append(img)\n",
        " \n",
        "out = cv2.VideoWriter('/content/drive/My Drive/audi/video.mp4',cv2.VideoWriter_fourcc(*'DIVX'), 30, size)\n",
        " \n",
        "for i in range(len(img_array)):\n",
        "    out.write(img_array[i])\n",
        "out.release()"
      ],
      "execution_count": 0,
      "outputs": []
    }
  ]
}