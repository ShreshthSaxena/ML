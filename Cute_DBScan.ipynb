{
  "nbformat": 4,
  "nbformat_minor": 0,
  "metadata": {
    "colab": {
      "name": "Cute DBScan.ipynb",
      "version": "0.3.2",
      "provenance": [],
      "include_colab_link": true
    },
    "kernelspec": {
      "name": "python3",
      "display_name": "Python 3"
    }
  },
  "cells": [
    {
      "cell_type": "markdown",
      "metadata": {
        "id": "view-in-github",
        "colab_type": "text"
      },
      "source": [
        "<a href=\"https://colab.research.google.com/github/ShreshthSaxena/ML/blob/master/Cute_DBScan.ipynb\" target=\"_parent\"><img src=\"https://colab.research.google.com/assets/colab-badge.svg\" alt=\"Open In Colab\"/></a>"
      ]
    },
    {
      "cell_type": "code",
      "metadata": {
        "id": "O1vC0w0fPBTz",
        "colab_type": "code",
        "colab": {}
      },
      "source": [
        "import cv2\n",
        "import numpy as np\n",
        "img = np.zeros([500,500, 3], dtype=np.uint8)"
      ],
      "execution_count": 0,
      "outputs": []
    },
    {
      "cell_type": "code",
      "metadata": {
        "id": "IdHiLIJWRGqO",
        "colab_type": "code",
        "colab": {
          "base_uri": "https://localhost:8080/",
          "height": 268
        },
        "outputId": "eb698b50-0165-46b1-f3d5-78a0f8738b9d"
      },
      "source": [
        "import matplotlib.pyplot as plt\n",
        "import matplotlib.patches as patches\n",
        "from PIL import Image\n",
        "\n",
        "# Create figure and axes\n",
        "fig,ax = plt.subplots(1)\n",
        "\n",
        "# Display the image\n",
        "ax.imshow(img)\n",
        "\n",
        "# Create a Rectangle patch\n",
        "for i in range(len(l)):\n",
        "  rect = patches.Rectangle((l[i][:2]),l[i][2],l[i][3],linewidth=1,edgecolor='r',facecolor='none')\n",
        "  ax.add_patch(rect)\n",
        "\n",
        "plt.show()"
      ],
      "execution_count": 27,
      "outputs": [
        {
          "output_type": "display_data",
          "data": {
            "image/png": "[encoded data removed]",
            "text/plain": [
              "<Figure size 432x288 with 1 Axes>"
            ]
          },
          "metadata": {
            "tags": []
          }
        }
      ]
    },
    {
      "cell_type": "code",
      "metadata": {
        "id": "gxvoccyWO4fG",
        "colab_type": "code",
        "colab": {}
      },
      "source": [
        "from sklearn.cluster import DBSCAN\n",
        "dbscan = DBSCAN(eps = 50, min_samples=2)"
      ],
      "execution_count": 0,
      "outputs": []
    },
    {
      "cell_type": "code",
      "metadata": {
        "id": "zg3QYSKeFAcl",
        "colab_type": "code",
        "colab": {}
      },
      "source": [
        "l = [(45,41,63,47),\n",
        "(90,25,46,33),\n",
        "(39,62,27,44),\n",
        "(87,73,34,36),\n",
        "(295,44,53,51),\n",
        "(318,64,76,48),\n",
        "(379,85,27,54),\n",
        "(114,271,83,64),\n",
        "(117,296,134,63),\n",
        "(205,281,14,49),\n",
        "(205,327,92,36),\n",
        "(106,268,294,123)]"
      ],
      "execution_count": 0,
      "outputs": []
    },
    {
      "cell_type": "code",
      "metadata": {
        "id": "mpPf4HELPAEl",
        "colab_type": "code",
        "colab": {
          "base_uri": "https://localhost:8080/",
          "height": 34
        },
        "outputId": "6b32dd81-120a-4a74-fe5f-63b0bf361c8b"
      },
      "source": [
        "li = [(l[i][0]+int(l[i][2]/2) , l[i][1]+int(l[i][3]/2)) for i in range(len(l))]\n",
        "dbscan.fit(li)\n",
        "dbscan.labels_"
      ],
      "execution_count": 3,
      "outputs": [
        {
          "output_type": "execute_result",
          "data": {
            "text/plain": [
              "array([0, 0, 0, 0, 1, 1, 1, 2, 2, 2, 2, 2])"
            ]
          },
          "metadata": {
            "tags": []
          },
          "execution_count": 3
        }
      ]
    },
    {
      "cell_type": "code",
      "metadata": {
        "id": "OEzDsCDTPAmT",
        "colab_type": "code",
        "colab": {
          "base_uri": "https://localhost:8080/",
          "height": 268
        },
        "outputId": "16e07d65-d477-45ea-8a81-d964df7dd8a6"
      },
      "source": [
        "# Create figure and axes\n",
        "fig,ax = plt.subplots(1)\n",
        "\n",
        "# Display the image\n",
        "ax.imshow(img)\n",
        "\n",
        "# Create a Rectangle patch\n",
        "for i in range(len(l)):\n",
        "  if dbscan.labels_[i] == 0:\n",
        "    rect = patches.Rectangle((l[i][:2]),l[i][2],l[i][3],linewidth=1,edgecolor='r',facecolor='none')\n",
        "    ax.add_patch(rect)\n",
        "  if dbscan.labels_[i] == 1:\n",
        "    rect = patches.Rectangle((l[i][:2]),l[i][2],l[i][3],linewidth=1,edgecolor='g',facecolor='none')\n",
        "    ax.add_patch(rect)\n",
        "  if dbscan.labels_[i] == 2:\n",
        "    rect = patches.Rectangle((l[i][:2]),l[i][2],l[i][3],linewidth=1,edgecolor='b',facecolor='none')\n",
        "    ax.add_patch(rect)\n",
        "plt.show()"
      ],
      "execution_count": 31,
      "outputs": [
        {
          "output_type": "display_data",
          "data": {
            "image/png": "[encoded data removed]",
            "text/plain": [
              "<Figure size 432x288 with 1 Axes>"
            ]
          },
          "metadata": {
            "tags": []
          }
        }
      ]
    },
    {
      "cell_type": "code",
      "metadata": {
        "id": "rNovYAJxZgf4",
        "colab_type": "code",
        "colab": {}
      },
      "source": [
        ""
      ],
      "execution_count": 0,
      "outputs": []
    }
  ]
}